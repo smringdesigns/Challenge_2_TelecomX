{
  "nbformat": 4,
  "nbformat_minor": 0,
  "metadata": {
    "colab": {
      "provenance": []
    },
    "kernelspec": {
      "name": "python3",
      "display_name": "Python 3"
    },
    "language_info": {
      "name": "python"
    }
  },
  "cells": [
    {
      "cell_type": "markdown",
      "source": [
        "#📌 Extracción"
      ],
      "metadata": {
        "id": "4foVEKhrlqcH"
      }
    },
    {
      "cell_type": "code",
      "source": [
        "# → Importa la Biblioteca Pandas\n",
        "import pandas as pd"
      ],
      "metadata": {
        "id": "lnTUMhnv2ZIs"
      },
      "execution_count": 5,
      "outputs": []
    },
    {
      "cell_type": "code",
      "source": [
        "# → Importa la librería para hacer solicitudes HTTP.\n",
        "import requests"
      ],
      "metadata": {
        "id": "1--uPM88l7JH"
      },
      "execution_count": 6,
      "outputs": []
    },
    {
      "cell_type": "code",
      "source": [
        "# Definir la URL del archivo JSON (desde GitHub)\n",
        "url = 'https://raw.githubusercontent.com/smringdesigns/Challenge_2_TelecomX/refs/heads/main/TelecomX_Data.json'"
      ],
      "metadata": {
        "id": "_SG23-rm0QR-"
      },
      "execution_count": 7,
      "outputs": []
    },
    {
      "cell_type": "code",
      "source": [
        "# → Hace una solicitud a la URL y guarda la respuesta (el archivo JSON)\n",
        "response = requests.get(url)"
      ],
      "metadata": {
        "id": "B-5KKvdk0ju8"
      },
      "execution_count": 8,
      "outputs": []
    },
    {
      "cell_type": "code",
      "source": [
        "# → → Convierte el contenido JSON de la respuesta en un diccionario de Python.\n",
        "data = response.json()"
      ],
      "metadata": {
        "id": "7UwT-_pr2PJe"
      },
      "execution_count": 9,
      "outputs": []
    },
    {
      "cell_type": "code",
      "source": [
        "# → Convierte ese diccionario en un DataFrame de pandas para trabajarlo como una tabla.\n",
        "df = pd.DataFrame(data)"
      ],
      "metadata": {
        "id": "3m7LOOpIRQlT"
      },
      "execution_count": 10,
      "outputs": []
    },
    {
      "cell_type": "markdown",
      "source": [
        "#🔧 Transformación"
      ],
      "metadata": {
        "id": "1lSZP8zmmGZu"
      }
    },
    {
      "cell_type": "code",
      "source": [],
      "metadata": {
        "id": "bsm-WTLjmHvt"
      },
      "execution_count": 1,
      "outputs": []
    },
    {
      "cell_type": "markdown",
      "source": [
        "#📊 Carga y análisis"
      ],
      "metadata": {
        "id": "6XnTC2NTmMRL"
      }
    },
    {
      "cell_type": "code",
      "source": [],
      "metadata": {
        "id": "1jgUnLqTmPdd"
      },
      "execution_count": 1,
      "outputs": []
    },
    {
      "cell_type": "markdown",
      "source": [
        "#📄Informe final"
      ],
      "metadata": {
        "id": "v-WzfSvTmaw9"
      }
    },
    {
      "cell_type": "code",
      "source": [],
      "metadata": {
        "id": "XMTac0YJmeK9"
      },
      "execution_count": 1,
      "outputs": []
    }
  ]
}